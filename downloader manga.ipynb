{
 "cells": [
  {
   "attachments": {},
   "cell_type": "markdown",
   "metadata": {},
   "source": [
    "**Inicialização**"
   ]
  },
  {
   "cell_type": "code",
   "execution_count": 1,
   "metadata": {},
   "outputs": [],
   "source": [
    "import requests\n",
    "import os\n",
    "from bs4 import BeautifulSoup\n",
    "\n",
    "def download_image(url, path):\n",
    "    try:\n",
    "        response = requests.get(url)\n",
    "        if response.status_code == 200:\n",
    "            with open(path, 'wb') as f:\n",
    "                f.write(response.content)\n",
    "    except:\n",
    "        return"
   ]
  },
  {
   "attachments": {},
   "cell_type": "markdown",
   "metadata": {},
   "source": [
    "**Definições**\n"
   ]
  },
  {
   "cell_type": "code",
   "execution_count": 8,
   "metadata": {},
   "outputs": [],
   "source": [
    "Nome_manga = 'Tokyo Ghoul RE'\n",
    "Capitulo = '39'\n",
    "url = 'https://mangayabu.top/ler/tokyo-ghoulre-capitulo-39-my81573/'\n",
    "\n",
    "if not os.path.exists(f'{Nome_manga}\\{Capitulo}'):\n",
    "    os.makedirs(f'{Nome_manga}\\{Capitulo}')"
   ]
  },
  {
   "attachments": {},
   "cell_type": "markdown",
   "metadata": {},
   "source": [
    "**Algoritmo**"
   ]
  },
  {
   "cell_type": "code",
   "execution_count": 9,
   "metadata": {},
   "outputs": [],
   "source": [
    "soup = BeautifulSoup(requests.get(url).content, 'html.parser')\n",
    "images = soup.find_all('img',gear=\"satoshi\")\n",
    "\n",
    "for i, image in enumerate(images):\n",
    "    image_url = image['src']\n",
    "    image_path = f'{Nome_manga}\\{Capitulo}\\{i}.jpg'\n",
    "    download_image(image_url,image_path)"
   ]
  }
 ],
 "metadata": {
  "kernelspec": {
   "display_name": "Python 3",
   "language": "python",
   "name": "python3"
  },
  "language_info": {
   "codemirror_mode": {
    "name": "ipython",
    "version": 3
   },
   "file_extension": ".py",
   "mimetype": "text/x-python",
   "name": "python",
   "nbconvert_exporter": "python",
   "pygments_lexer": "ipython3",
   "version": "3.11.0"
  },
  "orig_nbformat": 4,
  "vscode": {
   "interpreter": {
    "hash": "552c98ba2264a5fe1817931190a685af5d7222463a443209ce9f018bfce826b4"
   }
  }
 },
 "nbformat": 4,
 "nbformat_minor": 2
}
